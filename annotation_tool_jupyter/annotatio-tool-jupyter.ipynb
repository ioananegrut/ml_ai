{
 "cells": [
  {
   "cell_type": "markdown",
   "metadata": {},
   "source": [
    "# An annotation tool for image pairs\n",
    "\n",
    "The goal is to generate pairs of images which will be annotated either as \"same\"=1 or \"different\"=0.\n",
    "\n",
    "### Use cases:\n",
    "Face recognition: training a siamese network to recognize if the same person shows up in two images\\\n",
    "Character recognition\\\n",
    "or here... are the cats in the photos the same or different?\n",
    "\n",
    "### Input:\n",
    "Some sample images from ~~work~~ my web-cam.\n",
    "\n",
    "### Output:\n",
    "Save the annotation in a parquet file with three columns: base_im, pair_im, label."
   ]
  },
  {
   "cell_type": "code",
   "execution_count": null,
   "metadata": {},
   "outputs": [],
   "source": [
    "import ipywidgets as widgets\n",
    "from IPython.display import clear_output, display\n",
    "import random\n",
    "from PIL import Image\n",
    "import matplotlib.pyplot as plt\n",
    "from pathlib import Path\n",
    "import pandas as pd"
   ]
  },
  {
   "cell_type": "code",
   "execution_count": null,
   "metadata": {},
   "outputs": [],
   "source": [
    "IMAGES_PATH = Path(\"images\")\n",
    "path_list = [str(pth) for pth in IMAGES_PATH.glob(\"*.jpg\")]\n",
    "path_list[0:2]"
   ]
  },
  {
   "cell_type": "code",
   "execution_count": null,
   "metadata": {},
   "outputs": [],
   "source": [
    "# 1. First, define the data structure for storing the results\n",
    "\n",
    "annotations_dict = {\n",
    "    \"base_im\":[],\n",
    "    \"pair_im\":[],\n",
    "    \"label\":[]\n",
    "    }"
   ]
  },
  {
   "cell_type": "code",
   "execution_count": null,
   "metadata": {},
   "outputs": [],
   "source": [
    "# 2. Define the way in which the image pairs are generated (randomly sample two paths from the list)\n",
    "\n",
    "def generate_img_pair(input: list, k: int=2) -> tuple:\n",
    "    # sample k image paths without replacement\n",
    "    samples = random.sample(input, k)\n",
    "    base_img_path = samples[0]\n",
    "    pair_img_path = samples[1]\n",
    "\n",
    "    assert base_img_path != pair_img_path\n",
    "\n",
    "    return (base_img_path, pair_img_path)"
   ]
  },
  {
   "cell_type": "code",
   "execution_count": null,
   "metadata": {},
   "outputs": [],
   "source": [
    "generate_btn = widgets.Button(description = \"GENERATE\")\n",
    "same_btn = widgets.Button(description = \"Same\")\n",
    "different_btn = widgets.Button(description = \"Different\")"
   ]
  },
  {
   "cell_type": "code",
   "execution_count": null,
   "metadata": {},
   "outputs": [],
   "source": [
    "# At this point, the buttons are visible, but they carry no functionality or logic behind them. \n",
    "# Clicking on \"GENERATE\" should display a pair of images the user can assess as either \"same\" or \"different\". Let's implement this."
   ]
  },
  {
   "cell_type": "code",
   "execution_count": null,
   "metadata": {},
   "outputs": [],
   "source": [
    "display_plot = widgets.Output()\n",
    "\n",
    "def generate_eventHandler(p):\n",
    "    generate_btn.image_paths = generate_img_pair(input = path_list)\n",
    "    images = (Image.open(generate_btn.image_paths[0]), Image.open(generate_btn.image_paths[1]))\n",
    "\n",
    "    with display_plot:\n",
    "        clear_output()\n",
    "        fig, ax = plt.subplots(ncols = 2, figsize = (10, 8))\n",
    "        ax[0].imshow(images[0])\n",
    "        ax[1].imshow(images[1])\n",
    "        display(fig.figure)\n",
    "generate_btn.on_click(generate_eventHandler)"
   ]
  },
  {
   "cell_type": "code",
   "execution_count": null,
   "metadata": {},
   "outputs": [],
   "source": [
    "display(generate_btn)\n",
    "# Add the widget to display the output of the GENERATE button.\n",
    "display(display_plot)\n",
    "\n",
    "display(same_btn)\n",
    "display(different_btn)"
   ]
  },
  {
   "cell_type": "markdown",
   "metadata": {},
   "source": [
    "Ta-daaaa! There are the image pairs, ready to be annotated.\n",
    "\n",
    "The next step is to add the logic to the annotation buttons. Clicking on any of the buttons should label the image pair and append the label, together with the image names, to the results dictionary. This will then overwrite the parquet file where we store the annotations."
   ]
  },
  {
   "cell_type": "code",
   "execution_count": null,
   "metadata": {},
   "outputs": [],
   "source": [
    "def same_eventHandler(s):\n",
    "    annotations_dict[\"base_im\"].append(generate_btn.image_paths[0])\n",
    "    annotations_dict[\"pair_im\"].append(generate_btn.image_paths[1])\n",
    "    annotations_dict[\"label\"].append(1)\n",
    "\n",
    "def different_eventHandler(s):\n",
    "    annotations_dict[\"base_im\"].append(generate_btn.image_paths[0])\n",
    "    annotations_dict[\"pair_im\"].append(generate_btn.image_paths[1])\n",
    "    annotations_dict[\"label\"].append(0)\n",
    "\n",
    "same_btn.on_click(same_eventHandler)\n",
    "different_btn.on_click(different_eventHandler)"
   ]
  },
  {
   "cell_type": "code",
   "execution_count": null,
   "metadata": {},
   "outputs": [],
   "source": [
    "display(generate_btn)\n",
    "\n",
    "# Add the widget to display the output of the GENERATE button.\n",
    "display(display_plot)\n",
    "\n",
    "display(same_btn)\n",
    "display(different_btn)"
   ]
  },
  {
   "cell_type": "code",
   "execution_count": null,
   "metadata": {},
   "outputs": [],
   "source": [
    "# Check the annotations in the results dictionary\n",
    "ann_df = pd.DataFrame(annotations_dict)\n",
    "ann_df\n",
    "# Save it to a parquet file\n",
    "ann_df.to_parquet(\"annotations.parquet.gzip\")\n",
    "\n",
    "# Read the parquet file\n",
    "# df = pd.read_parquet(\"annotations.parquet.gzip\")"
   ]
  }
 ],
 "metadata": {
  "kernelspec": {
   "display_name": "base",
   "language": "python",
   "name": "python3"
  },
  "language_info": {
   "codemirror_mode": {
    "name": "ipython",
    "version": 3
   },
   "file_extension": ".py",
   "mimetype": "text/x-python",
   "name": "python",
   "nbconvert_exporter": "python",
   "pygments_lexer": "ipython3",
   "version": "3.10.9"
  },
  "orig_nbformat": 4
 },
 "nbformat": 4,
 "nbformat_minor": 2
}
